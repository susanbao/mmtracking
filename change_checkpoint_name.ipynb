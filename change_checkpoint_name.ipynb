{
 "cells": [
  {
   "cell_type": "code",
   "execution_count": 12,
   "id": "909d1497-8547-49f8-9190-30ffa7620695",
   "metadata": {
    "tags": []
   },
   "outputs": [],
   "source": [
    "import torch\n",
    "from collections import OrderedDict"
   ]
  },
  {
   "cell_type": "code",
   "execution_count": 13,
   "id": "880d803e-ae10-42bf-aae2-ccf4dbe28f65",
   "metadata": {
    "tags": []
   },
   "outputs": [],
   "source": [
    "state_dict = torch.load('/home/sas20048/.cache/torch/checkpoints/faster-rcnn_r50_fpn_4e_mot17-half-64ee2ed4.pth')"
   ]
  },
  {
   "cell_type": "code",
   "execution_count": 14,
   "id": "78a6dc3b-ab7e-496b-8971-0ea421bf4ed8",
   "metadata": {},
   "outputs": [
    {
     "name": "stdout",
     "output_type": "stream",
     "text": [
      "meta\n",
      "state_dict\n"
     ]
    }
   ],
   "source": [
    "new_state_dict = OrderedDict()\n",
    "for key, value in state_dict.items():\n",
    "    print(key)"
   ]
  },
  {
   "cell_type": "code",
   "execution_count": 15,
   "id": "bc3df4fb-63bf-4d41-9221-4c7567eec0d6",
   "metadata": {},
   "outputs": [],
   "source": [
    "stat_d = state_dict['state_dict']"
   ]
  },
  {
   "cell_type": "code",
   "execution_count": 16,
   "id": "e77724ec-310e-4da1-96f1-f2aab9433670",
   "metadata": {},
   "outputs": [],
   "source": [
    "for key, value in stat_d.items():\n",
    "    new_state_dict['detector.' + key] = value"
   ]
  },
  {
   "cell_type": "code",
   "execution_count": 17,
   "id": "b6a8293f-d23f-4f4d-9a75-de34a3dab50f",
   "metadata": {},
   "outputs": [],
   "source": [
    "state_dict['state_dict'] = new_state_dict"
   ]
  },
  {
   "cell_type": "code",
   "execution_count": 18,
   "id": "1cfcee80-fe90-419f-82f6-7b450bdbeea8",
   "metadata": {
    "tags": []
   },
   "outputs": [],
   "source": [
    "torch.save(state_dict, './checkpoint/modified_for_ocsort_faster-rcnn_r50_fpn_4e_mot17-half-64ee2ed4.pth')"
   ]
  }
 ],
 "metadata": {
  "kernelspec": {
   "display_name": "Python 3 (ipykernel)",
   "language": "python",
   "name": "python3"
  },
  "language_info": {
   "codemirror_mode": {
    "name": "ipython",
    "version": 3
   },
   "file_extension": ".py",
   "mimetype": "text/x-python",
   "name": "python",
   "nbconvert_exporter": "python",
   "pygments_lexer": "ipython3",
   "version": "3.9.7"
  }
 },
 "nbformat": 4,
 "nbformat_minor": 5
}
